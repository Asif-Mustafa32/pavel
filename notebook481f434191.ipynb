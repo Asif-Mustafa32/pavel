{
 "cells": [
  {
   "cell_type": "code",
   "execution_count": 1,
   "id": "6aec77c6",
   "metadata": {
    "_cell_guid": "b1076dfc-b9ad-4769-8c92-a6c4dae69d19",
    "_uuid": "8f2839f25d086af736a60e9eeb907d3b93b6e0e5",
    "execution": {
     "iopub.execute_input": "2023-05-13T05:46:12.098824Z",
     "iopub.status.busy": "2023-05-13T05:46:12.098206Z",
     "iopub.status.idle": "2023-05-13T05:46:12.117961Z",
     "shell.execute_reply": "2023-05-13T05:46:12.116658Z"
    },
    "papermill": {
     "duration": 0.027397,
     "end_time": "2023-05-13T05:46:12.120637",
     "exception": false,
     "start_time": "2023-05-13T05:46:12.093240",
     "status": "completed"
    },
    "tags": []
   },
   "outputs": [
    {
     "name": "stdout",
     "output_type": "stream",
     "text": [
      "/kaggle/input/breast-cancer-dataset-used-royston-and-altman/gbsg.csv\n"
     ]
    }
   ],
   "source": [
    "# This Python 3 environment comes with many helpful analytics libraries installed\n",
    "# It is defined by the kaggle/python Docker image: https://github.com/kaggle/docker-python\n",
    "# For example, here's several helpful packages to load\n",
    "\n",
    "import numpy as np # linear algebra\n",
    "import pandas as pd # data processing, CSV file I/O (e.g. pd.read_csv)\n",
    "\n",
    "# Input data files are available in the read-only \"../input/\" directory\n",
    "# For example, running this (by clicking run or pressing Shift+Enter) will list all files under the input directory\n",
    "\n",
    "import os\n",
    "for dirname, _, filenames in os.walk('/kaggle/input'):\n",
    "    for filename in filenames:\n",
    "        print(os.path.join(dirname, filename))\n",
    "\n",
    "# You can write up to 20GB to the current directory (/kaggle/working/) that gets preserved as output when you create a version using \"Save & Run All\" \n",
    "# You can also write temporary files to /kaggle/temp/, but they won't be saved outside of the current session"
   ]
  },
  {
   "cell_type": "code",
   "execution_count": 2,
   "id": "30e9359e",
   "metadata": {
    "execution": {
     "iopub.execute_input": "2023-05-13T05:46:12.128699Z",
     "iopub.status.busy": "2023-05-13T05:46:12.128273Z",
     "iopub.status.idle": "2023-05-13T05:46:12.150482Z",
     "shell.execute_reply": "2023-05-13T05:46:12.149659Z"
    },
    "papermill": {
     "duration": 0.028953,
     "end_time": "2023-05-13T05:46:12.152860",
     "exception": false,
     "start_time": "2023-05-13T05:46:12.123907",
     "status": "completed"
    },
    "tags": []
   },
   "outputs": [],
   "source": [
    "df=pd.read_csv('/kaggle/input/breast-cancer-dataset-used-royston-and-altman/gbsg.csv')"
   ]
  },
  {
   "cell_type": "code",
   "execution_count": 3,
   "id": "cfb981de",
   "metadata": {
    "execution": {
     "iopub.execute_input": "2023-05-13T05:46:12.160921Z",
     "iopub.status.busy": "2023-05-13T05:46:12.159953Z",
     "iopub.status.idle": "2023-05-13T05:46:12.191460Z",
     "shell.execute_reply": "2023-05-13T05:46:12.190704Z"
    },
    "papermill": {
     "duration": 0.03756,
     "end_time": "2023-05-13T05:46:12.193450",
     "exception": false,
     "start_time": "2023-05-13T05:46:12.155890",
     "status": "completed"
    },
    "tags": []
   },
   "outputs": [
    {
     "data": {
      "text/html": [
       "<div>\n",
       "<style scoped>\n",
       "    .dataframe tbody tr th:only-of-type {\n",
       "        vertical-align: middle;\n",
       "    }\n",
       "\n",
       "    .dataframe tbody tr th {\n",
       "        vertical-align: top;\n",
       "    }\n",
       "\n",
       "    .dataframe thead th {\n",
       "        text-align: right;\n",
       "    }\n",
       "</style>\n",
       "<table border=\"1\" class=\"dataframe\">\n",
       "  <thead>\n",
       "    <tr style=\"text-align: right;\">\n",
       "      <th></th>\n",
       "      <th>Unnamed: 0</th>\n",
       "      <th>pid</th>\n",
       "      <th>age</th>\n",
       "      <th>meno</th>\n",
       "      <th>size</th>\n",
       "      <th>grade</th>\n",
       "      <th>nodes</th>\n",
       "      <th>pgr</th>\n",
       "      <th>er</th>\n",
       "      <th>hormon</th>\n",
       "      <th>rfstime</th>\n",
       "      <th>status</th>\n",
       "    </tr>\n",
       "  </thead>\n",
       "  <tbody>\n",
       "    <tr>\n",
       "      <th>0</th>\n",
       "      <td>1</td>\n",
       "      <td>132</td>\n",
       "      <td>49</td>\n",
       "      <td>0</td>\n",
       "      <td>18</td>\n",
       "      <td>2</td>\n",
       "      <td>2</td>\n",
       "      <td>0</td>\n",
       "      <td>0</td>\n",
       "      <td>0</td>\n",
       "      <td>1838</td>\n",
       "      <td>0</td>\n",
       "    </tr>\n",
       "    <tr>\n",
       "      <th>1</th>\n",
       "      <td>2</td>\n",
       "      <td>1575</td>\n",
       "      <td>55</td>\n",
       "      <td>1</td>\n",
       "      <td>20</td>\n",
       "      <td>3</td>\n",
       "      <td>16</td>\n",
       "      <td>0</td>\n",
       "      <td>0</td>\n",
       "      <td>0</td>\n",
       "      <td>403</td>\n",
       "      <td>1</td>\n",
       "    </tr>\n",
       "    <tr>\n",
       "      <th>2</th>\n",
       "      <td>3</td>\n",
       "      <td>1140</td>\n",
       "      <td>56</td>\n",
       "      <td>1</td>\n",
       "      <td>40</td>\n",
       "      <td>3</td>\n",
       "      <td>3</td>\n",
       "      <td>0</td>\n",
       "      <td>0</td>\n",
       "      <td>0</td>\n",
       "      <td>1603</td>\n",
       "      <td>0</td>\n",
       "    </tr>\n",
       "    <tr>\n",
       "      <th>3</th>\n",
       "      <td>4</td>\n",
       "      <td>769</td>\n",
       "      <td>45</td>\n",
       "      <td>0</td>\n",
       "      <td>25</td>\n",
       "      <td>3</td>\n",
       "      <td>1</td>\n",
       "      <td>0</td>\n",
       "      <td>4</td>\n",
       "      <td>0</td>\n",
       "      <td>177</td>\n",
       "      <td>0</td>\n",
       "    </tr>\n",
       "    <tr>\n",
       "      <th>4</th>\n",
       "      <td>5</td>\n",
       "      <td>130</td>\n",
       "      <td>65</td>\n",
       "      <td>1</td>\n",
       "      <td>30</td>\n",
       "      <td>2</td>\n",
       "      <td>5</td>\n",
       "      <td>0</td>\n",
       "      <td>36</td>\n",
       "      <td>1</td>\n",
       "      <td>1855</td>\n",
       "      <td>0</td>\n",
       "    </tr>\n",
       "    <tr>\n",
       "      <th>5</th>\n",
       "      <td>6</td>\n",
       "      <td>1642</td>\n",
       "      <td>48</td>\n",
       "      <td>0</td>\n",
       "      <td>52</td>\n",
       "      <td>2</td>\n",
       "      <td>11</td>\n",
       "      <td>0</td>\n",
       "      <td>0</td>\n",
       "      <td>0</td>\n",
       "      <td>842</td>\n",
       "      <td>1</td>\n",
       "    </tr>\n",
       "    <tr>\n",
       "      <th>6</th>\n",
       "      <td>7</td>\n",
       "      <td>475</td>\n",
       "      <td>48</td>\n",
       "      <td>0</td>\n",
       "      <td>21</td>\n",
       "      <td>3</td>\n",
       "      <td>8</td>\n",
       "      <td>0</td>\n",
       "      <td>0</td>\n",
       "      <td>0</td>\n",
       "      <td>293</td>\n",
       "      <td>1</td>\n",
       "    </tr>\n",
       "    <tr>\n",
       "      <th>7</th>\n",
       "      <td>8</td>\n",
       "      <td>973</td>\n",
       "      <td>37</td>\n",
       "      <td>0</td>\n",
       "      <td>20</td>\n",
       "      <td>2</td>\n",
       "      <td>9</td>\n",
       "      <td>0</td>\n",
       "      <td>0</td>\n",
       "      <td>1</td>\n",
       "      <td>42</td>\n",
       "      <td>0</td>\n",
       "    </tr>\n",
       "    <tr>\n",
       "      <th>8</th>\n",
       "      <td>9</td>\n",
       "      <td>569</td>\n",
       "      <td>67</td>\n",
       "      <td>1</td>\n",
       "      <td>20</td>\n",
       "      <td>2</td>\n",
       "      <td>1</td>\n",
       "      <td>0</td>\n",
       "      <td>0</td>\n",
       "      <td>1</td>\n",
       "      <td>564</td>\n",
       "      <td>1</td>\n",
       "    </tr>\n",
       "    <tr>\n",
       "      <th>9</th>\n",
       "      <td>10</td>\n",
       "      <td>1180</td>\n",
       "      <td>45</td>\n",
       "      <td>0</td>\n",
       "      <td>30</td>\n",
       "      <td>2</td>\n",
       "      <td>1</td>\n",
       "      <td>0</td>\n",
       "      <td>0</td>\n",
       "      <td>0</td>\n",
       "      <td>1093</td>\n",
       "      <td>1</td>\n",
       "    </tr>\n",
       "  </tbody>\n",
       "</table>\n",
       "</div>"
      ],
      "text/plain": [
       "   Unnamed: 0   pid  age  meno  size  grade  nodes  pgr  er  hormon  rfstime  \\\n",
       "0           1   132   49     0    18      2      2    0   0       0     1838   \n",
       "1           2  1575   55     1    20      3     16    0   0       0      403   \n",
       "2           3  1140   56     1    40      3      3    0   0       0     1603   \n",
       "3           4   769   45     0    25      3      1    0   4       0      177   \n",
       "4           5   130   65     1    30      2      5    0  36       1     1855   \n",
       "5           6  1642   48     0    52      2     11    0   0       0      842   \n",
       "6           7   475   48     0    21      3      8    0   0       0      293   \n",
       "7           8   973   37     0    20      2      9    0   0       1       42   \n",
       "8           9   569   67     1    20      2      1    0   0       1      564   \n",
       "9          10  1180   45     0    30      2      1    0   0       0     1093   \n",
       "\n",
       "   status  \n",
       "0       0  \n",
       "1       1  \n",
       "2       0  \n",
       "3       0  \n",
       "4       0  \n",
       "5       1  \n",
       "6       1  \n",
       "7       0  \n",
       "8       1  \n",
       "9       1  "
      ]
     },
     "execution_count": 3,
     "metadata": {},
     "output_type": "execute_result"
    }
   ],
   "source": [
    "df.head(10)"
   ]
  },
  {
   "cell_type": "code",
   "execution_count": 4,
   "id": "8a9c7e8b",
   "metadata": {
    "execution": {
     "iopub.execute_input": "2023-05-13T05:46:12.201985Z",
     "iopub.status.busy": "2023-05-13T05:46:12.201360Z",
     "iopub.status.idle": "2023-05-13T05:46:12.251443Z",
     "shell.execute_reply": "2023-05-13T05:46:12.250332Z"
    },
    "papermill": {
     "duration": 0.057011,
     "end_time": "2023-05-13T05:46:12.253819",
     "exception": false,
     "start_time": "2023-05-13T05:46:12.196808",
     "status": "completed"
    },
    "tags": []
   },
   "outputs": [
    {
     "data": {
      "text/html": [
       "<div>\n",
       "<style scoped>\n",
       "    .dataframe tbody tr th:only-of-type {\n",
       "        vertical-align: middle;\n",
       "    }\n",
       "\n",
       "    .dataframe tbody tr th {\n",
       "        vertical-align: top;\n",
       "    }\n",
       "\n",
       "    .dataframe thead th {\n",
       "        text-align: right;\n",
       "    }\n",
       "</style>\n",
       "<table border=\"1\" class=\"dataframe\">\n",
       "  <thead>\n",
       "    <tr style=\"text-align: right;\">\n",
       "      <th></th>\n",
       "      <th>Unnamed: 0</th>\n",
       "      <th>pid</th>\n",
       "      <th>age</th>\n",
       "      <th>meno</th>\n",
       "      <th>size</th>\n",
       "      <th>grade</th>\n",
       "      <th>nodes</th>\n",
       "      <th>pgr</th>\n",
       "      <th>er</th>\n",
       "      <th>hormon</th>\n",
       "      <th>rfstime</th>\n",
       "      <th>status</th>\n",
       "    </tr>\n",
       "  </thead>\n",
       "  <tbody>\n",
       "    <tr>\n",
       "      <th>count</th>\n",
       "      <td>686.000000</td>\n",
       "      <td>686.000000</td>\n",
       "      <td>686.000000</td>\n",
       "      <td>686.000000</td>\n",
       "      <td>686.000000</td>\n",
       "      <td>686.000000</td>\n",
       "      <td>686.000000</td>\n",
       "      <td>686.000000</td>\n",
       "      <td>686.000000</td>\n",
       "      <td>686.000000</td>\n",
       "      <td>686.000000</td>\n",
       "      <td>686.000000</td>\n",
       "    </tr>\n",
       "    <tr>\n",
       "      <th>mean</th>\n",
       "      <td>343.500000</td>\n",
       "      <td>966.061224</td>\n",
       "      <td>53.052478</td>\n",
       "      <td>0.577259</td>\n",
       "      <td>29.329446</td>\n",
       "      <td>2.116618</td>\n",
       "      <td>5.010204</td>\n",
       "      <td>109.995627</td>\n",
       "      <td>96.252187</td>\n",
       "      <td>0.358601</td>\n",
       "      <td>1124.489796</td>\n",
       "      <td>0.435860</td>\n",
       "    </tr>\n",
       "    <tr>\n",
       "      <th>std</th>\n",
       "      <td>198.175427</td>\n",
       "      <td>495.506249</td>\n",
       "      <td>10.120739</td>\n",
       "      <td>0.494355</td>\n",
       "      <td>14.296217</td>\n",
       "      <td>0.582808</td>\n",
       "      <td>5.475483</td>\n",
       "      <td>202.331552</td>\n",
       "      <td>153.083963</td>\n",
       "      <td>0.479940</td>\n",
       "      <td>642.791948</td>\n",
       "      <td>0.496231</td>\n",
       "    </tr>\n",
       "    <tr>\n",
       "      <th>min</th>\n",
       "      <td>1.000000</td>\n",
       "      <td>1.000000</td>\n",
       "      <td>21.000000</td>\n",
       "      <td>0.000000</td>\n",
       "      <td>3.000000</td>\n",
       "      <td>1.000000</td>\n",
       "      <td>1.000000</td>\n",
       "      <td>0.000000</td>\n",
       "      <td>0.000000</td>\n",
       "      <td>0.000000</td>\n",
       "      <td>8.000000</td>\n",
       "      <td>0.000000</td>\n",
       "    </tr>\n",
       "    <tr>\n",
       "      <th>25%</th>\n",
       "      <td>172.250000</td>\n",
       "      <td>580.750000</td>\n",
       "      <td>46.000000</td>\n",
       "      <td>0.000000</td>\n",
       "      <td>20.000000</td>\n",
       "      <td>2.000000</td>\n",
       "      <td>1.000000</td>\n",
       "      <td>7.000000</td>\n",
       "      <td>8.000000</td>\n",
       "      <td>0.000000</td>\n",
       "      <td>567.750000</td>\n",
       "      <td>0.000000</td>\n",
       "    </tr>\n",
       "    <tr>\n",
       "      <th>50%</th>\n",
       "      <td>343.500000</td>\n",
       "      <td>1015.500000</td>\n",
       "      <td>53.000000</td>\n",
       "      <td>1.000000</td>\n",
       "      <td>25.000000</td>\n",
       "      <td>2.000000</td>\n",
       "      <td>3.000000</td>\n",
       "      <td>32.500000</td>\n",
       "      <td>36.000000</td>\n",
       "      <td>0.000000</td>\n",
       "      <td>1084.000000</td>\n",
       "      <td>0.000000</td>\n",
       "    </tr>\n",
       "    <tr>\n",
       "      <th>75%</th>\n",
       "      <td>514.750000</td>\n",
       "      <td>1340.500000</td>\n",
       "      <td>61.000000</td>\n",
       "      <td>1.000000</td>\n",
       "      <td>35.000000</td>\n",
       "      <td>2.000000</td>\n",
       "      <td>7.000000</td>\n",
       "      <td>131.750000</td>\n",
       "      <td>114.000000</td>\n",
       "      <td>1.000000</td>\n",
       "      <td>1684.750000</td>\n",
       "      <td>1.000000</td>\n",
       "    </tr>\n",
       "    <tr>\n",
       "      <th>max</th>\n",
       "      <td>686.000000</td>\n",
       "      <td>1819.000000</td>\n",
       "      <td>80.000000</td>\n",
       "      <td>1.000000</td>\n",
       "      <td>120.000000</td>\n",
       "      <td>3.000000</td>\n",
       "      <td>51.000000</td>\n",
       "      <td>2380.000000</td>\n",
       "      <td>1144.000000</td>\n",
       "      <td>1.000000</td>\n",
       "      <td>2659.000000</td>\n",
       "      <td>1.000000</td>\n",
       "    </tr>\n",
       "  </tbody>\n",
       "</table>\n",
       "</div>"
      ],
      "text/plain": [
       "       Unnamed: 0          pid         age        meno        size  \\\n",
       "count  686.000000   686.000000  686.000000  686.000000  686.000000   \n",
       "mean   343.500000   966.061224   53.052478    0.577259   29.329446   \n",
       "std    198.175427   495.506249   10.120739    0.494355   14.296217   \n",
       "min      1.000000     1.000000   21.000000    0.000000    3.000000   \n",
       "25%    172.250000   580.750000   46.000000    0.000000   20.000000   \n",
       "50%    343.500000  1015.500000   53.000000    1.000000   25.000000   \n",
       "75%    514.750000  1340.500000   61.000000    1.000000   35.000000   \n",
       "max    686.000000  1819.000000   80.000000    1.000000  120.000000   \n",
       "\n",
       "            grade       nodes          pgr           er      hormon  \\\n",
       "count  686.000000  686.000000   686.000000   686.000000  686.000000   \n",
       "mean     2.116618    5.010204   109.995627    96.252187    0.358601   \n",
       "std      0.582808    5.475483   202.331552   153.083963    0.479940   \n",
       "min      1.000000    1.000000     0.000000     0.000000    0.000000   \n",
       "25%      2.000000    1.000000     7.000000     8.000000    0.000000   \n",
       "50%      2.000000    3.000000    32.500000    36.000000    0.000000   \n",
       "75%      2.000000    7.000000   131.750000   114.000000    1.000000   \n",
       "max      3.000000   51.000000  2380.000000  1144.000000    1.000000   \n",
       "\n",
       "           rfstime      status  \n",
       "count   686.000000  686.000000  \n",
       "mean   1124.489796    0.435860  \n",
       "std     642.791948    0.496231  \n",
       "min       8.000000    0.000000  \n",
       "25%     567.750000    0.000000  \n",
       "50%    1084.000000    0.000000  \n",
       "75%    1684.750000    1.000000  \n",
       "max    2659.000000    1.000000  "
      ]
     },
     "execution_count": 4,
     "metadata": {},
     "output_type": "execute_result"
    }
   ],
   "source": [
    "df.describe()"
   ]
  },
  {
   "cell_type": "code",
   "execution_count": 5,
   "id": "24bc1c7f",
   "metadata": {
    "execution": {
     "iopub.execute_input": "2023-05-13T05:46:12.262782Z",
     "iopub.status.busy": "2023-05-13T05:46:12.262390Z",
     "iopub.status.idle": "2023-05-13T05:46:12.269847Z",
     "shell.execute_reply": "2023-05-13T05:46:12.269054Z"
    },
    "papermill": {
     "duration": 0.014019,
     "end_time": "2023-05-13T05:46:12.271797",
     "exception": false,
     "start_time": "2023-05-13T05:46:12.257778",
     "status": "completed"
    },
    "tags": []
   },
   "outputs": [
    {
     "data": {
      "text/plain": [
       "Unnamed: 0    0\n",
       "pid           0\n",
       "age           0\n",
       "meno          0\n",
       "size          0\n",
       "grade         0\n",
       "nodes         0\n",
       "pgr           0\n",
       "er            0\n",
       "hormon        0\n",
       "rfstime       0\n",
       "status        0\n",
       "dtype: int64"
      ]
     },
     "execution_count": 5,
     "metadata": {},
     "output_type": "execute_result"
    }
   ],
   "source": [
    "df.isnull().sum()"
   ]
  },
  {
   "cell_type": "code",
   "execution_count": 6,
   "id": "055a16d2",
   "metadata": {
    "execution": {
     "iopub.execute_input": "2023-05-13T05:46:12.280717Z",
     "iopub.status.busy": "2023-05-13T05:46:12.280084Z",
     "iopub.status.idle": "2023-05-13T05:46:12.286081Z",
     "shell.execute_reply": "2023-05-13T05:46:12.285130Z"
    },
    "papermill": {
     "duration": 0.012773,
     "end_time": "2023-05-13T05:46:12.288220",
     "exception": false,
     "start_time": "2023-05-13T05:46:12.275447",
     "status": "completed"
    },
    "tags": []
   },
   "outputs": [
    {
     "data": {
      "text/plain": [
       "(686, 12)"
      ]
     },
     "execution_count": 6,
     "metadata": {},
     "output_type": "execute_result"
    }
   ],
   "source": [
    "df.shape"
   ]
  },
  {
   "cell_type": "code",
   "execution_count": 7,
   "id": "c37c2207",
   "metadata": {
    "execution": {
     "iopub.execute_input": "2023-05-13T05:46:12.297482Z",
     "iopub.status.busy": "2023-05-13T05:46:12.297060Z",
     "iopub.status.idle": "2023-05-13T05:46:13.504103Z",
     "shell.execute_reply": "2023-05-13T05:46:13.502902Z"
    },
    "papermill": {
     "duration": 1.214421,
     "end_time": "2023-05-13T05:46:13.506558",
     "exception": false,
     "start_time": "2023-05-13T05:46:12.292137",
     "status": "completed"
    },
    "tags": []
   },
   "outputs": [
    {
     "name": "stderr",
     "output_type": "stream",
     "text": [
      "/opt/conda/lib/python3.10/site-packages/scipy/__init__.py:146: UserWarning: A NumPy version >=1.16.5 and <1.23.0 is required for this version of SciPy (detected version 1.23.5\n",
      "  warnings.warn(f\"A NumPy version >={np_minversion} and <{np_maxversion}\"\n"
     ]
    }
   ],
   "source": [
    "import numpy as np\n",
    "import seaborn as sns\n",
    "import matplotlib.pyplot as plt"
   ]
  },
  {
   "cell_type": "code",
   "execution_count": 8,
   "id": "8d079d5f",
   "metadata": {
    "execution": {
     "iopub.execute_input": "2023-05-13T05:46:13.517023Z",
     "iopub.status.busy": "2023-05-13T05:46:13.516007Z",
     "iopub.status.idle": "2023-05-13T05:46:13.981838Z",
     "shell.execute_reply": "2023-05-13T05:46:13.980684Z"
    },
    "papermill": {
     "duration": 0.473381,
     "end_time": "2023-05-13T05:46:13.984237",
     "exception": false,
     "start_time": "2023-05-13T05:46:13.510856",
     "status": "completed"
    },
    "tags": []
   },
   "outputs": [
    {
     "data": {
      "text/plain": [
       "Text(0.5, 1.0, 'Multi-Collinearity of Breast Cancer Attributes')"
      ]
     },
     "execution_count": 8,
     "metadata": {},
     "output_type": "execute_result"
    },
    {
     "data": {
      "image/png": "[encoded data removed]",
      "text/plain": [
       "<Figure size 1000x600 with 2 Axes>"
      ]
     },
     "metadata": {},
     "output_type": "display_data"
    }
   ],
   "source": [
    "fig, ax = plt.subplots(figsize=(10,6))\n",
    "sns.heatmap(df.corr(), center=0, cmap='Blues')\n",
    "ax.set_title('Multi-Collinearity of Breast Cancer Attributes')"
   ]
  },
  {
   "cell_type": "code",
   "execution_count": null,
   "id": "ff58a548",
   "metadata": {
    "papermill": {
     "duration": 0.004332,
     "end_time": "2023-05-13T05:46:13.993361",
     "exception": false,
     "start_time": "2023-05-13T05:46:13.989029",
     "status": "completed"
    },
    "tags": []
   },
   "outputs": [],
   "source": []
  }
 ],
 "metadata": {
  "kernelspec": {
   "display_name": "Python 3",
   "language": "python",
   "name": "python3"
  },
  "language_info": {
   "codemirror_mode": {
    "name": "ipython",
    "version": 3
   },
   "file_extension": ".py",
   "mimetype": "text/x-python",
   "name": "python",
   "nbconvert_exporter": "python",
   "pygments_lexer": "ipython3",
   "version": "3.10.10"
  },
  "papermill": {
   "default_parameters": {},
   "duration": 13.116576,
   "end_time": "2023-05-13T05:46:14.920130",
   "environment_variables": {},
   "exception": null,
   "input_path": "__notebook__.ipynb",
   "output_path": "__notebook__.ipynb",
   "parameters": {},
   "start_time": "2023-05-13T05:46:01.803554",
   "version": "2.4.0"
  }
 },
 "nbformat": 4,
 "nbformat_minor": 5
}
